{
 "cells": [
  {
   "cell_type": "code",
   "execution_count": 1,
   "metadata": {},
   "outputs": [],
   "source": [
    "import pandas as pd\n",
    "import numpy as np\n",
    "import matplotlib.pyplot as plt\n",
    "import seaborn as sns\n",
    "from scipy.stats import ttest_ind, levene"
   ]
  },
  {
   "cell_type": "code",
   "execution_count": 2,
   "metadata": {},
   "outputs": [
    {
     "name": "stdout",
     "output_type": "stream",
     "text": [
      "<bound method NDFrame.head of                       EventName         DeviceIDHash  EventTimestamp  ExpId\n",
      "0              MainScreenAppear  4575588528974610257      1564029816    246\n",
      "1              MainScreenAppear  7416695313311560658      1564053102    246\n",
      "2       PaymentScreenSuccessful  3518123091307005509      1564054127    248\n",
      "3              CartScreenAppear  3518123091307005509      1564054127    248\n",
      "4       PaymentScreenSuccessful  6217807653094995999      1564055322    248\n",
      "...                         ...                  ...             ...    ...\n",
      "244121         MainScreenAppear  4599628364049201812      1565212345    247\n",
      "244122         MainScreenAppear  5849806612437486590      1565212439    246\n",
      "244123         MainScreenAppear  5746969938801999050      1565212483    246\n",
      "244124         MainScreenAppear  5746969938801999050      1565212498    246\n",
      "244125       OffersScreenAppear  5746969938801999050      1565212517    246\n",
      "\n",
      "[244126 rows x 4 columns]>\n",
      "<class 'pandas.core.frame.DataFrame'>\n",
      "RangeIndex: 244126 entries, 0 to 244125\n",
      "Data columns (total 4 columns):\n",
      " #   Column          Non-Null Count   Dtype \n",
      "---  ------          --------------   ----- \n",
      " 0   EventName       244126 non-null  object\n",
      " 1   DeviceIDHash    244126 non-null  int64 \n",
      " 2   EventTimestamp  244126 non-null  int64 \n",
      " 3   ExpId           244126 non-null  int64 \n",
      "dtypes: int64(3), object(1)\n",
      "memory usage: 7.5+ MB\n"
     ]
    }
   ],
   "source": [
    "df = pd.read_csv('/datasets/logs_exp_us.csv', sep='\\t')\n",
    "\n",
    "print (df.head)\n",
    "df.info()"
   ]
  },
  {
   "cell_type": "code",
   "execution_count": 3,
   "metadata": {},
   "outputs": [
    {
     "name": "stdout",
     "output_type": "stream",
     "text": [
      "0   2019-07-25 04:43:36\n",
      "1   2019-07-25 11:11:42\n",
      "2   2019-07-25 11:28:47\n",
      "3   2019-07-25 11:28:47\n",
      "4   2019-07-25 11:48:42\n",
      "5   2019-07-25 11:48:43\n",
      "6   2019-07-25 14:50:42\n",
      "7   2019-07-25 20:14:37\n",
      "8   2019-07-25 20:31:42\n",
      "9   2019-07-26 03:35:12\n",
      "Name: EventTimestamp, dtype: datetime64[ns]\n"
     ]
    }
   ],
   "source": [
    "df['EventTimestamp'] = pd.to_datetime(df['EventTimestamp'], unit='s')\n",
    "print(df['EventTimestamp'].head(10))"
   ]
  },
  {
   "cell_type": "code",
   "execution_count": 4,
   "metadata": {},
   "outputs": [
    {
     "name": "stdout",
     "output_type": "stream",
     "text": [
      "                event_name              user_id     event_timestamp  exp_id\n",
      "0         MainScreenAppear  4575588528974610257 2019-07-25 04:43:36     246\n",
      "1         MainScreenAppear  7416695313311560658 2019-07-25 11:11:42     246\n",
      "2  PaymentScreenSuccessful  3518123091307005509 2019-07-25 11:28:47     248\n",
      "3         CartScreenAppear  3518123091307005509 2019-07-25 11:28:47     248\n",
      "4  PaymentScreenSuccessful  6217807653094995999 2019-07-25 11:48:42     248\n"
     ]
    }
   ],
   "source": [
    "df.columns = ['event_name', 'user_id', 'event_timestamp', 'exp_id']\n",
    "\n",
    "print (df.head(5))"
   ]
  },
  {
   "cell_type": "code",
   "execution_count": 5,
   "metadata": {},
   "outputs": [
    {
     "name": "stdout",
     "output_type": "stream",
     "text": [
      "                event_name              user_id     event_timestamp  exp_id  \\\n",
      "0         MainScreenAppear  4575588528974610257 2019-07-25 04:43:36     246   \n",
      "1         MainScreenAppear  7416695313311560658 2019-07-25 11:11:42     246   \n",
      "2  PaymentScreenSuccessful  3518123091307005509 2019-07-25 11:28:47     248   \n",
      "3         CartScreenAppear  3518123091307005509 2019-07-25 11:28:47     248   \n",
      "4  PaymentScreenSuccessful  6217807653094995999 2019-07-25 11:48:42     248   \n",
      "\n",
      "   event_date  \n",
      "0  2019-07-25  \n",
      "1  2019-07-25  \n",
      "2  2019-07-25  \n",
      "3  2019-07-25  \n",
      "4  2019-07-25  \n",
      "valores nulos:\n",
      "event_name         0\n",
      "user_id            0\n",
      "event_timestamp    0\n",
      "exp_id             0\n",
      "event_date         0\n",
      "dtype: int64\n",
      "tipos de datos:\n",
      "event_name                 object\n",
      "user_id                     int64\n",
      "event_timestamp    datetime64[ns]\n",
      "exp_id                      int64\n",
      "event_date                 object\n",
      "dtype: object\n"
     ]
    }
   ],
   "source": [
    "df['event_date'] = df['event_timestamp'].dt.date\n",
    "\n",
    "print (df.head(5))\n",
    "\n",
    "print('valores nulos:')\n",
    "print(df.isnull().sum())\n",
    "\n",
    "print ('tipos de datos:')\n",
    "print(df.dtypes)"
   ]
  },
  {
   "cell_type": "markdown",
   "metadata": {},
   "source": [
    "#### Hasta aqui se completa el paso 1 y 2 del proyecto y se verifica que no se requiere mas limpiza de datos"
   ]
  },
  {
   "cell_type": "code",
   "execution_count": 6,
   "metadata": {},
   "outputs": [
    {
     "name": "stdout",
     "output_type": "stream",
     "text": [
      "Total de eventos: 244126\n"
     ]
    }
   ],
   "source": [
    "total_eventos = len(df)\n",
    "print(\"Total de eventos:\", total_eventos)"
   ]
  },
  {
   "cell_type": "code",
   "execution_count": 7,
   "metadata": {},
   "outputs": [
    {
     "name": "stdout",
     "output_type": "stream",
     "text": [
      "Usuarios únicos: 7551\n"
     ]
    }
   ],
   "source": [
    "# Cantidad de usuarios únicos\n",
    "usuarios_unicos = df['user_id'].nunique()\n",
    "print(\"Usuarios únicos:\", usuarios_unicos)"
   ]
  },
  {
   "cell_type": "code",
   "execution_count": 8,
   "metadata": {},
   "outputs": [
    {
     "name": "stdout",
     "output_type": "stream",
     "text": [
      "Promedio de eventos por usuario: 32.33\n"
     ]
    }
   ],
   "source": [
    "promedio_eventos = total_eventos / usuarios_unicos\n",
    "print(\"Promedio de eventos por usuario:\", round(promedio_eventos, 2))\n"
   ]
  },
  {
   "cell_type": "code",
   "execution_count": 9,
   "metadata": {},
   "outputs": [
    {
     "name": "stdout",
     "output_type": "stream",
     "text": [
      "Fecha mínima: 2019-07-25 04:43:36\n",
      "Fecha máxima: 2019-08-07 21:15:17\n"
     ]
    }
   ],
   "source": [
    "print(\"Fecha mínima:\", df['event_timestamp'].min())\n",
    "print(\"Fecha máxima:\", df['event_timestamp'].max())"
   ]
  },
  {
   "cell_type": "code",
   "execution_count": 10,
   "metadata": {},
   "outputs": [
    {
     "data": {
      "image/png": "[encoded data removed]",
      "text/plain": [
       "<Figure size 1200x400 with 1 Axes>"
      ]
     },
     "metadata": {},
     "output_type": "display_data"
    }
   ],
   "source": [
    "eventos_por_dia = df.groupby('event_date').size()\n",
    "\n",
    "plt.figure(figsize=(12, 4))\n",
    "eventos_por_dia.plot(kind='bar')\n",
    "plt.title('Cantidad de eventos por día')\n",
    "plt.xlabel('Fecha')\n",
    "plt.ylabel('Cantidad de eventos')\n",
    "plt.xticks(rotation=45)\n",
    "plt.tight_layout()\n",
    "plt.grid(True)\n",
    "plt.show()"
   ]
  },
  {
   "cell_type": "code",
   "execution_count": 11,
   "metadata": {},
   "outputs": [
    {
     "name": "stdout",
     "output_type": "stream",
     "text": [
      "Mínimo (filtrados): 2019-08-01 00:07:28\n",
      "Máximo (filtrados): 2019-08-07 21:15:17\n"
     ]
    }
   ],
   "source": [
    "# Filtramos a partir del 2019‑08‑01\n",
    "fecha_inicio_completa = pd.to_datetime('2019-08-01').date()\n",
    "df_filtrados = df[df['event_date'] >= fecha_inicio_completa]\n",
    "\n",
    "print(\"Mínimo (filtrados):\", df_filtrados['event_timestamp'].min())\n",
    "print(\"Máximo (filtrados):\", df_filtrados['event_timestamp'].max())\n"
   ]
  },
  {
   "cell_type": "code",
   "execution_count": 12,
   "metadata": {},
   "outputs": [
    {
     "name": "stdout",
     "output_type": "stream",
     "text": [
      "Porcentaje de días estables: 100.0%\n"
     ]
    }
   ],
   "source": [
    "# Calcular eventos por día en el dataset completo y en el filtrado\n",
    "eventos_diarios_total    = df.groupby('event_date').size()\n",
    "eventos_diarios_filtrados = df_filtrados.groupby('event_date').size()\n",
    "\n",
    "# Ver cuántos días tienen al menos, digamos, 1.000 eventos\n",
    "dias_estables = (eventos_diarios_filtrados >= 1000).sum()\n",
    "total_dias   = eventos_diarios_filtrados.size\n",
    "\n",
    "\n",
    "print(f\"Porcentaje de días estables: {round(dias_estables/total_dias*100,2)}%\")"
   ]
  },
  {
   "cell_type": "markdown",
   "metadata": {},
   "source": [
    "#### Se observa que entre el 25 y 31 de julio hay muy pocos eventos, por lo que se estima que a partir del primero de agosto es cuando los datos son consistentes por lo que se considera filtrar los datos a partir de esta fecha"
   ]
  },
  {
   "cell_type": "code",
   "execution_count": 13,
   "metadata": {},
   "outputs": [
    {
     "name": "stdout",
     "output_type": "stream",
     "text": [
      "Eventos totales:        244126\n",
      "Eventos tras filtrado:  241298\n",
      "Usuarios totales:       7551\n",
      "Usuarios tras filtrado: 7534\n"
     ]
    }
   ],
   "source": [
    "eventos_perdidos = len(df) - len(df_filtrados)\n",
    "usuarios_perdidos = df['user_id'].nunique() - df_filtrados['user_id'].nunique()\n",
    "\n",
    "print(f\"Eventos totales:        {len(df)}\")\n",
    "print(f\"Eventos tras filtrado:  {len(df_filtrados)}\")\n",
    "print(f\"Usuarios totales:       {df['user_id'].nunique()}\")\n",
    "print(f\"Usuarios tras filtrado: {df_filtrados['user_id'].nunique()}\")"
   ]
  },
  {
   "cell_type": "markdown",
   "metadata": {},
   "source": [
    "Se pierden pocos usuarios comparado con el total, por lo que es razonable limpiar esa primera semana."
   ]
  },
  {
   "cell_type": "code",
   "execution_count": 14,
   "metadata": {},
   "outputs": [
    {
     "name": "stdout",
     "output_type": "stream",
     "text": [
      "   exp_id  usuarios\n",
      "0     246      2484\n",
      "1     247      2513\n",
      "2     248      2537\n"
     ]
    }
   ],
   "source": [
    "usuarios_por_grupo = (\n",
    "    df_filtrados\n",
    "    .groupby('exp_id')['user_id']\n",
    "    .nunique()\n",
    "    .rename('usuarios')\n",
    "    .reset_index()\n",
    ")\n",
    "print(usuarios_por_grupo)"
   ]
  },
  {
   "cell_type": "code",
   "execution_count": 15,
   "metadata": {},
   "outputs": [
    {
     "name": "stdout",
     "output_type": "stream",
     "text": [
      "Tutorial                 :   840 usuarios — 11.1% del total\n",
      "MainScreenAppear         :  7419 usuarios — 98.5% del total\n",
      "OffersScreenAppear       :  4593 usuarios — 61.0% del total\n",
      "CartScreenAppear         :  3734 usuarios — 49.6% del total\n",
      "PaymentScreenSuccessful  :  3539 usuarios — 47.0% del total\n"
     ]
    }
   ],
   "source": [
    "funnel = [\n",
    "    'Tutorial',\n",
    "    'MainScreenAppear',\n",
    "    'OffersScreenAppear',\n",
    "    'CartScreenAppear',\n",
    "    'PaymentScreenSuccessful'\n",
    "]\n",
    "\n",
    "# Diccionarios para guardar resultados\n",
    "usuarios_por_etapa = {}\n",
    "total_usuarios = df_filtrados['user_id'].nunique()\n",
    "\n",
    "for evento in funnel:\n",
    "    usuarios = (\n",
    "        df_filtrados[df_filtrados['event_name'] == evento]\n",
    "        ['user_id']\n",
    "        .nunique()\n",
    "    )\n",
    "    usuarios_por_etapa[evento] = usuarios\n",
    "\n",
    "# Mostrar resultados\n",
    "for etapa, usuarios in usuarios_por_etapa.items():\n",
    "    pct = usuarios / total_usuarios * 100\n",
    "    print(f\"{etapa:25s}: {usuarios:5d} usuarios — {pct:.1f}% del total\")"
   ]
  },
  {
   "cell_type": "code",
   "execution_count": 16,
   "metadata": {},
   "outputs": [
    {
     "name": "stdout",
     "output_type": "stream",
     "text": [
      "MainScreenAppear         :  7419 usuarios — 98.5% del total\n",
      "OffersScreenAppear       :  4593 usuarios — 61.0% del total\n",
      "CartScreenAppear         :  3734 usuarios — 49.6% del total\n",
      "PaymentScreenSuccessful  :  3539 usuarios — 47.0% del total\n",
      "\n",
      "Tasas de conversión entre etapas:\n",
      "MainScreenAppear → OffersScreenAppear          : 61.9%\n",
      "OffersScreenAppear → CartScreenAppear            : 81.3%\n",
      "CartScreenAppear → PaymentScreenSuccessful     : 94.8%\n",
      "\n",
      "% que completa todo el funnel: 47.7%\n"
     ]
    }
   ],
   "source": [
    "# 1) Definir nuevo funnel\n",
    "funnel2 = [\n",
    "    'MainScreenAppear',\n",
    "    'OffersScreenAppear',\n",
    "    'CartScreenAppear',\n",
    "    'PaymentScreenSuccessful'\n",
    "]\n",
    "\n",
    "# 2) Contar usuarios por etapa en df_filtrados\n",
    "usuarios_por_etapa2 = {\n",
    "    evento: df_filtrados[df_filtrados['event_name'] == evento]['user_id'].nunique()\n",
    "    for evento in funnel2\n",
    "}\n",
    "total_usuarios = df_filtrados['user_id'].nunique()\n",
    "\n",
    "# 3) Mostrar totales y porcentajes\n",
    "for etapa, usuarios in usuarios_por_etapa2.items():\n",
    "    pct = usuarios / total_usuarios * 100\n",
    "    print(f\"{etapa:25s}: {usuarios:5d} usuarios — {pct:.1f}% del total\")\n",
    "\n",
    "# 4) Calcular conversiones entre cada paso\n",
    "print(\"\\nTasas de conversión entre etapas:\")\n",
    "for i in range(len(funnel2) - 1):\n",
    "    ini, fin = funnel2[i], funnel2[i+1]\n",
    "    ratio = usuarios_por_etapa2[fin] / usuarios_por_etapa2[ini] * 100\n",
    "    print(f\"{ini} → {fin:28s}: {ratio:.1f}%\")\n",
    "\n",
    "# 5) Funnel completo\n",
    "funnel_completo2 = usuarios_por_etapa2[funnel2[-1]] / usuarios_por_etapa2[funnel2[0]] * 100\n",
    "print(f\"\\n% que completa todo el funnel: {funnel_completo2:.1f}%\")"
   ]
  },
  {
   "cell_type": "markdown",
   "metadata": {},
   "source": [
    "Se recrea una el funnel (embudo) ya que solo el 11% de los usuario ven el tutorial pero practicamente todos (98.5%) vieron la pantalla principal, lo que hace que esto debemos descartarlo."
   ]
  },
  {
   "cell_type": "markdown",
   "metadata": {},
   "source": [
    "#### como se ve en los resultados un gran porcentaje de usuarios que vieron las ofertas pasan al carrito de compras, ademas de que un 94.8% de usuarios que agregaron algo en el carrito de compras hicieron la compra. \n",
    "\n",
    "#### por lo que se podria decir que el si mejoramos el sistema para que lleguen a las \"ofertas\" la tasa de conversion mejorara"
   ]
  },
  {
   "cell_type": "code",
   "execution_count": 17,
   "metadata": {},
   "outputs": [
    {
     "name": "stdout",
     "output_type": "stream",
     "text": [
      "Evento más popular: MainScreenAppear\n"
     ]
    }
   ],
   "source": [
    "top_event = df_filtrados['event_name'].value_counts().idxmax()\n",
    "print(\"Evento más popular:\", top_event)"
   ]
  },
  {
   "cell_type": "markdown",
   "metadata": {},
   "source": [
    "#### logico ya que se podria decir que es el primer evento"
   ]
  },
  {
   "cell_type": "code",
   "execution_count": 18,
   "metadata": {},
   "outputs": [
    {
     "name": "stdout",
     "output_type": "stream",
     "text": [
      "Grupo 246: 0.986\n",
      "Grupo 247: 0.985\n",
      "Grupo 248: 0.983\n"
     ]
    }
   ],
   "source": [
    "def proporcion_evento(df, exp):\n",
    "    usuarios = df[(df['exp_id'] == exp) & (df['event_name'] == top_event)]['user_id'].nunique()\n",
    "    total = df[df['exp_id'] == exp]['user_id'].nunique()\n",
    "    return usuarios / total\n",
    "\n",
    "for exp in [246, 247, 248]:\n",
    "    pct = proporcion_evento(df_filtrados, exp)\n",
    "    print(f\"Grupo {exp}: {pct:.3f}\")\n"
   ]
  },
  {
   "cell_type": "code",
   "execution_count": 19,
   "metadata": {},
   "outputs": [],
   "source": [
    "def series_binaria(df, exp):\n",
    "    users = df[df['exp_id'] == exp]['user_id'].unique()\n",
    "    happened = df[(df['exp_id'] == exp) & (df['event_name'] == top_event)]['user_id'].unique()\n",
    "    return np.array([1 if u in happened else 0 for u in users])\n",
    "\n",
    "s246 = series_binaria(df_filtrados, 246)\n",
    "s247 = series_binaria(df_filtrados, 247)"
   ]
  },
  {
   "cell_type": "code",
   "execution_count": 20,
   "metadata": {},
   "outputs": [
    {
     "name": "stdout",
     "output_type": "stream",
     "text": [
      "\n",
      "Levene test p‑value (varianzas iguales?): 0.757\n"
     ]
    }
   ],
   "source": [
    "stat, p_levene = levene(s246, s247)\n",
    "print(f\"\\nLevene test p‑value (varianzas iguales?): {p_levene:.3f}\")\n"
   ]
  },
  {
   "cell_type": "code",
   "execution_count": 21,
   "metadata": {},
   "outputs": [
    {
     "name": "stdout",
     "output_type": "stream",
     "text": [
      "T‑test 246 vs 247 p‑value: 0.757\n"
     ]
    }
   ],
   "source": [
    "t_stat, p_t = ttest_ind(s246, s247, equal_var=(p_levene>0.05))\n",
    "print(f\"T‑test 246 vs 247 p‑value: {p_t:.3f}\")"
   ]
  },
  {
   "cell_type": "code",
   "execution_count": 22,
   "metadata": {},
   "outputs": [
    {
     "name": "stdout",
     "output_type": "stream",
     "text": [
      "\n",
      "Comparación control 246 vs 248:\n",
      "  Levene p‑value: 0.2951\n",
      "  T‑test p‑value: 0.2951\n",
      "  → No hay diferencia significativa.\n",
      "\n",
      "Comparación control 247 vs 248:\n",
      "  Levene p‑value: 0.4588\n",
      "  T‑test p‑value: 0.4588\n",
      "  → No hay diferencia significativa.\n"
     ]
    }
   ],
   "source": [
    "alpha = 0.10\n",
    "\n",
    "# Función que devuelve la serie binaria para un evento y un experimento\n",
    "def series_binaria(df, exp_id, evento):\n",
    "    usuarios = df[df['exp_id'] == exp_id]['user_id'].unique()\n",
    "    hicieron = df[(df['exp_id'] == exp_id) & (df['event_name'] == evento)]['user_id'].unique()\n",
    "    return np.array([1 if u in hicieron else 0 for u in usuarios])\n",
    "\n",
    "# Preparamos las tres series binarias para el top_event\n",
    "s246 = series_binaria(df_filtrados, 246, top_event)\n",
    "s247 = series_binaria(df_filtrados, 247, top_event)\n",
    "s248 = series_binaria(df_filtrados, 248, top_event)\n",
    "\n",
    "# Comparar 248 vs cada control\n",
    "for control, serie_control in [(246, s246), (247, s247)]:\n",
    "    stat_le, p_le = levene(serie_control, s248)\n",
    "    t_stat, p_val = ttest_ind(serie_control, s248, equal_var=(p_le > alpha))\n",
    "    print(f\"\\nComparación control {control} vs 248:\")\n",
    "    print(f\"  Levene p‑value: {p_le:.4f}\")\n",
    "    print(f\"  T‑test p‑value: {p_val:.4f}\")\n",
    "    if p_val > alpha:\n",
    "        print(\"  → No hay diferencia significativa.\")\n",
    "    else:\n",
    "        print(\"  → Sí hay diferencia significativa.\")"
   ]
  },
  {
   "cell_type": "code",
   "execution_count": 23,
   "metadata": {},
   "outputs": [
    {
     "name": "stdout",
     "output_type": "stream",
     "text": [
      "\n",
      "Comparación controles combinados vs 248:\n",
      "  Levene p‑value: 0.2943\n",
      "  T‑test p‑value: 0.2943\n",
      "  → No hay diferencia significativa.\n"
     ]
    }
   ],
   "source": [
    "# Unir los dos controles\n",
    "users_246 = df_filtrados[df_filtrados['exp_id'] == 246]['user_id'].unique()\n",
    "users_247 = df_filtrados[df_filtrados['exp_id'] == 247]['user_id'].unique()\n",
    "users_A   = np.concatenate([users_246, users_247])\n",
    "\n",
    "# Serie binaria para A combinado\n",
    "serie_A = np.array([1 if u in df_filtrados[\n",
    "    (df_filtrados['exp_id'].isin([246, 247])) & \n",
    "    (df_filtrados['event_name'] == top_event)\n",
    "]['user_id'].unique() else 0 for u in users_A])\n",
    "\n",
    "# Serie binaria para B\n",
    "serie_B = s248\n",
    "\n",
    "# Test Levene y t‑test\n",
    "stat_le, p_le = levene(serie_A, serie_B)\n",
    "t_stat, p_val = ttest_ind(serie_A, serie_B, equal_var=(p_le > alpha))\n",
    "print(\"\\nComparación controles combinados vs 248:\")\n",
    "print(f\"  Levene p‑value: {p_le:.4f}\")\n",
    "print(f\"  T‑test p‑value: {p_val:.4f}\")\n",
    "if p_val > alpha:\n",
    "    print(\"  → No hay diferencia significativa.\")\n",
    "else:\n",
    "    print(\"  → Sí hay diferencia significativa.\")"
   ]
  },
  {
   "cell_type": "markdown",
   "metadata": {},
   "source": [
    "#### No se encontraron diferencias significativas entre controles A/A ni entre los controles y el grupo de prueba para ninguno de los eventos analizados, incluso tras ajuste por Bonferroni. Las nuevas fuentes no impactan negativamente la interacción."
   ]
  },
  {
   "cell_type": "markdown",
   "metadata": {},
   "source": [
    "#### El cuello de botella esta en hacer que la gente vea mas ofertas. Tambien podria ser irrelevante el tutorial o dejarlo solo como un extra mas no para los pasos que se requieren para realizar un compra.\n",
    "\n",
    "\n",
    "Tambien se concluye que la nueva tipografia no altera el comportamiento de los usuarios por lo tanto se podria cambiar sin esperar algo negativo."
   ]
  },
  {
   "cell_type": "markdown",
   "metadata": {},
   "source": [
    "####"
   ]
  },
  {
   "cell_type": "code",
   "execution_count": null,
   "metadata": {},
   "outputs": [],
   "source": []
  }
 ],
 "metadata": {
  "kernelspec": {
   "display_name": "Python 3 (ipykernel)",
   "language": "python",
   "name": "python3"
  },
  "language_info": {
   "codemirror_mode": {
    "name": "ipython",
    "version": 3
   },
   "file_extension": ".py",
   "mimetype": "text/x-python",
   "name": "python",
   "nbconvert_exporter": "python",
   "pygments_lexer": "ipython3",
   "version": "3.9.23"
  }
 },
 "nbformat": 4,
 "nbformat_minor": 4
}
